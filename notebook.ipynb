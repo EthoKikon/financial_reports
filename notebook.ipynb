{
 "cells": [
  {
   "cell_type": "markdown",
   "id": "b6bb71db-d177-4226-a70e-f1340d7c5a3a",
   "metadata": {},
   "source": [
    "## Help your hedge fund manager!\n",
    "\n",
    "You have two datasets at your disposal: `Balance_Sheet.xlsx` and `Income_Statement.xlsx`. Both these datasets have three columns in common:\n",
    "- `\"Company\"`: The company's ticker name.\n",
    "- `\"comp_type\"` The type of industry the company in question belongs to. It is either `\"tech\"` for companies in the technology industry, `\"fmcg\"` for companies in the fast-moving consumer goods industry, and `\"real_est\"` for companies in the real estate industry. \n",
    "- `\"Year\"`: The year the company's information is from.\n",
    "\n",
    "The rest of the columns in the datasets contain information from the financial statement of the `\"Company\"` in question. Note that the columns in `Balance_Sheet.xlsx` only contain financial information from the balance sheet. Similarly, the columns in `Income_Statement.xlsx` only contain financial information from the income statement. The columns are named accordingly. For instance, the column `\"Total Liab\"` from `Balance_Sheet.xlsx` is the total liability."
   ]
  },
  {
   "cell_type": "code",
   "execution_count": 1,
   "id": "55d2a777-02c9-4448-8ecf-bff17c2e2aa1",
   "metadata": {
    "executionCancelledAt": null,
    "executionTime": 11,
    "lastExecutedAt": 1725422267933,
    "lastExecutedByKernel": "93bf6f9c-9f74-4d1f-93c5-b58edcbac3c1",
    "lastScheduledRunId": null,
    "lastSuccessfullyExecutedCode": "import numpy as np\nimport pandas as pd\nimport seaborn as sns",
    "outputsMetadata": {
     "0": {
      "height": 211,
      "type": "stream"
     }
    }
   },
   "outputs": [],
   "source": [
    "import numpy as np\n",
    "import pandas as pd\n",
    "import seaborn as sns"
   ]
  },
  {
   "cell_type": "code",
   "execution_count": 2,
   "id": "d06b8ee8-963b-4291-a8d8-2073da8f904b",
   "metadata": {
    "executionCancelledAt": null,
    "executionTime": 60,
    "lastExecutedAt": 1725422267993,
    "lastExecutedByKernel": "93bf6f9c-9f74-4d1f-93c5-b58edcbac3c1",
    "lastScheduledRunId": null,
    "lastSuccessfullyExecutedCode": "balance_sheet_df = pd.read_excel('data/Balance_Sheet.xlsx')\nincome_statement_df = pd.read_excel('data/Income_Statement.xlsx')"
   },
   "outputs": [],
   "source": [
    "balance_sheet_df = pd.read_excel('data/Balance_Sheet.xlsx')\n",
    "income_statement_df = pd.read_excel('data/Income_Statement.xlsx')"
   ]
  },
  {
   "cell_type": "code",
   "execution_count": 3,
   "id": "1a767855-70d6-4655-8906-904a7ac16d99",
   "metadata": {
    "executionCancelledAt": null,
    "executionTime": 59,
    "lastExecutedAt": 1725422268053,
    "lastExecutedByKernel": "93bf6f9c-9f74-4d1f-93c5-b58edcbac3c1",
    "lastScheduledRunId": null,
    "lastSuccessfullyExecutedCode": "balance_sheet_df.head()",
    "outputsMetadata": {
     "0": {
      "height": 248,
      "type": "dataFrame"
     }
    }
   },
   "outputs": [
    {
     "data": {
      "text/html": [
       "<div>\n",
       "<style scoped>\n",
       "    .dataframe tbody tr th:only-of-type {\n",
       "        vertical-align: middle;\n",
       "    }\n",
       "\n",
       "    .dataframe tbody tr th {\n",
       "        vertical-align: top;\n",
       "    }\n",
       "\n",
       "    .dataframe thead th {\n",
       "        text-align: right;\n",
       "    }\n",
       "</style>\n",
       "<table border=\"1\" class=\"dataframe\">\n",
       "  <thead>\n",
       "    <tr style=\"text-align: right;\">\n",
       "      <th></th>\n",
       "      <th>Unnamed: 0</th>\n",
       "      <th>Year</th>\n",
       "      <th>comp_type</th>\n",
       "      <th>company</th>\n",
       "      <th>Accounts Payable</th>\n",
       "      <th>Cash</th>\n",
       "      <th>Inventory</th>\n",
       "      <th>Property Plant Equipment</th>\n",
       "      <th>Short Term Investments</th>\n",
       "      <th>Total Assets</th>\n",
       "      <th>Total Current Assets</th>\n",
       "      <th>Total Current Liabilities</th>\n",
       "      <th>Total Liab</th>\n",
       "      <th>Total Stockholder Equity</th>\n",
       "    </tr>\n",
       "  </thead>\n",
       "  <tbody>\n",
       "    <tr>\n",
       "      <th>0</th>\n",
       "      <td>0</td>\n",
       "      <td>2019</td>\n",
       "      <td>tech</td>\n",
       "      <td>AAPL</td>\n",
       "      <td>46236000000</td>\n",
       "      <td>48844000000</td>\n",
       "      <td>4.106000e+09</td>\n",
       "      <td>37378000000</td>\n",
       "      <td>5.171300e+10</td>\n",
       "      <td>338516000000</td>\n",
       "      <td>162819000000</td>\n",
       "      <td>105718000000</td>\n",
       "      <td>248028000000</td>\n",
       "      <td>90488000000</td>\n",
       "    </tr>\n",
       "    <tr>\n",
       "      <th>1</th>\n",
       "      <td>1</td>\n",
       "      <td>2020</td>\n",
       "      <td>tech</td>\n",
       "      <td>AAPL</td>\n",
       "      <td>42296000000</td>\n",
       "      <td>38016000000</td>\n",
       "      <td>4.061000e+09</td>\n",
       "      <td>45336000000</td>\n",
       "      <td>5.292700e+10</td>\n",
       "      <td>323888000000</td>\n",
       "      <td>143713000000</td>\n",
       "      <td>105392000000</td>\n",
       "      <td>258549000000</td>\n",
       "      <td>65339000000</td>\n",
       "    </tr>\n",
       "    <tr>\n",
       "      <th>2</th>\n",
       "      <td>2</td>\n",
       "      <td>2021</td>\n",
       "      <td>tech</td>\n",
       "      <td>AAPL</td>\n",
       "      <td>54763000000</td>\n",
       "      <td>34940000000</td>\n",
       "      <td>6.580000e+09</td>\n",
       "      <td>49527000000</td>\n",
       "      <td>2.769900e+10</td>\n",
       "      <td>351002000000</td>\n",
       "      <td>134836000000</td>\n",
       "      <td>125481000000</td>\n",
       "      <td>287912000000</td>\n",
       "      <td>63090000000</td>\n",
       "    </tr>\n",
       "    <tr>\n",
       "      <th>3</th>\n",
       "      <td>3</td>\n",
       "      <td>2022</td>\n",
       "      <td>tech</td>\n",
       "      <td>AAPL</td>\n",
       "      <td>64115000000</td>\n",
       "      <td>23646000000</td>\n",
       "      <td>4.946000e+09</td>\n",
       "      <td>84234000000</td>\n",
       "      <td>2.465800e+10</td>\n",
       "      <td>352755000000</td>\n",
       "      <td>135405000000</td>\n",
       "      <td>153982000000</td>\n",
       "      <td>302083000000</td>\n",
       "      <td>50672000000</td>\n",
       "    </tr>\n",
       "    <tr>\n",
       "      <th>4</th>\n",
       "      <td>4</td>\n",
       "      <td>2019</td>\n",
       "      <td>tech</td>\n",
       "      <td>MSFT</td>\n",
       "      <td>9382000000</td>\n",
       "      <td>11356000000</td>\n",
       "      <td>2.063000e+09</td>\n",
       "      <td>43856000000</td>\n",
       "      <td>1.224760e+11</td>\n",
       "      <td>286556000000</td>\n",
       "      <td>175552000000</td>\n",
       "      <td>69420000000</td>\n",
       "      <td>184226000000</td>\n",
       "      <td>102330000000</td>\n",
       "    </tr>\n",
       "  </tbody>\n",
       "</table>\n",
       "</div>"
      ],
      "text/plain": [
       "   Unnamed: 0  Year comp_type company  Accounts Payable         Cash  \\\n",
       "0           0  2019      tech    AAPL       46236000000  48844000000   \n",
       "1           1  2020      tech    AAPL       42296000000  38016000000   \n",
       "2           2  2021      tech    AAPL       54763000000  34940000000   \n",
       "3           3  2022      tech    AAPL       64115000000  23646000000   \n",
       "4           4  2019      tech    MSFT        9382000000  11356000000   \n",
       "\n",
       "      Inventory  Property Plant Equipment  Short Term Investments  \\\n",
       "0  4.106000e+09               37378000000            5.171300e+10   \n",
       "1  4.061000e+09               45336000000            5.292700e+10   \n",
       "2  6.580000e+09               49527000000            2.769900e+10   \n",
       "3  4.946000e+09               84234000000            2.465800e+10   \n",
       "4  2.063000e+09               43856000000            1.224760e+11   \n",
       "\n",
       "   Total Assets  Total Current Assets  Total Current Liabilities  \\\n",
       "0  338516000000          162819000000               105718000000   \n",
       "1  323888000000          143713000000               105392000000   \n",
       "2  351002000000          134836000000               125481000000   \n",
       "3  352755000000          135405000000               153982000000   \n",
       "4  286556000000          175552000000                69420000000   \n",
       "\n",
       "     Total Liab  Total Stockholder Equity  \n",
       "0  248028000000               90488000000  \n",
       "1  258549000000               65339000000  \n",
       "2  287912000000               63090000000  \n",
       "3  302083000000               50672000000  \n",
       "4  184226000000              102330000000  "
      ]
     },
     "execution_count": 3,
     "metadata": {},
     "output_type": "execute_result"
    }
   ],
   "source": [
    "balance_sheet_df.head()"
   ]
  },
  {
   "cell_type": "code",
   "execution_count": 4,
   "id": "b3d9624a-4f77-4196-be15-085bf41051c3",
   "metadata": {
    "executionCancelledAt": null,
    "executionTime": 64,
    "lastExecutedAt": 1725422268117,
    "lastExecutedByKernel": "93bf6f9c-9f74-4d1f-93c5-b58edcbac3c1",
    "lastScheduledRunId": null,
    "lastSuccessfullyExecutedCode": "income_statement_df.head()",
    "outputsMetadata": {
     "0": {
      "height": 248,
      "type": "dataFrame"
     }
    }
   },
   "outputs": [
    {
     "data": {
      "text/html": [
       "<div>\n",
       "<style scoped>\n",
       "    .dataframe tbody tr th:only-of-type {\n",
       "        vertical-align: middle;\n",
       "    }\n",
       "\n",
       "    .dataframe tbody tr th {\n",
       "        vertical-align: top;\n",
       "    }\n",
       "\n",
       "    .dataframe thead th {\n",
       "        text-align: right;\n",
       "    }\n",
       "</style>\n",
       "<table border=\"1\" class=\"dataframe\">\n",
       "  <thead>\n",
       "    <tr style=\"text-align: right;\">\n",
       "      <th></th>\n",
       "      <th>Unnamed: 0</th>\n",
       "      <th>Year</th>\n",
       "      <th>comp_type</th>\n",
       "      <th>company</th>\n",
       "      <th>Cost Of Goods Sold</th>\n",
       "      <th>Gross Profit</th>\n",
       "      <th>Operating Income</th>\n",
       "      <th>Total Operating Expenses</th>\n",
       "      <th>Total Revenue</th>\n",
       "    </tr>\n",
       "  </thead>\n",
       "  <tbody>\n",
       "    <tr>\n",
       "      <th>0</th>\n",
       "      <td>0</td>\n",
       "      <td>2019</td>\n",
       "      <td>tech</td>\n",
       "      <td>AAPL</td>\n",
       "      <td>161782000000</td>\n",
       "      <td>98392000000</td>\n",
       "      <td>63930000000</td>\n",
       "      <td>196244000000</td>\n",
       "      <td>260174000000</td>\n",
       "    </tr>\n",
       "    <tr>\n",
       "      <th>1</th>\n",
       "      <td>1</td>\n",
       "      <td>2020</td>\n",
       "      <td>tech</td>\n",
       "      <td>AAPL</td>\n",
       "      <td>169559000000</td>\n",
       "      <td>104956000000</td>\n",
       "      <td>66288000000</td>\n",
       "      <td>208227000000</td>\n",
       "      <td>274515000000</td>\n",
       "    </tr>\n",
       "    <tr>\n",
       "      <th>2</th>\n",
       "      <td>2</td>\n",
       "      <td>2021</td>\n",
       "      <td>tech</td>\n",
       "      <td>AAPL</td>\n",
       "      <td>212981000000</td>\n",
       "      <td>152836000000</td>\n",
       "      <td>108949000000</td>\n",
       "      <td>256868000000</td>\n",
       "      <td>365817000000</td>\n",
       "    </tr>\n",
       "    <tr>\n",
       "      <th>3</th>\n",
       "      <td>3</td>\n",
       "      <td>2022</td>\n",
       "      <td>tech</td>\n",
       "      <td>AAPL</td>\n",
       "      <td>223546000000</td>\n",
       "      <td>170782000000</td>\n",
       "      <td>119437000000</td>\n",
       "      <td>274891000000</td>\n",
       "      <td>394328000000</td>\n",
       "    </tr>\n",
       "    <tr>\n",
       "      <th>4</th>\n",
       "      <td>4</td>\n",
       "      <td>2019</td>\n",
       "      <td>tech</td>\n",
       "      <td>MSFT</td>\n",
       "      <td>42910000000</td>\n",
       "      <td>82933000000</td>\n",
       "      <td>42959000000</td>\n",
       "      <td>82884000000</td>\n",
       "      <td>125843000000</td>\n",
       "    </tr>\n",
       "  </tbody>\n",
       "</table>\n",
       "</div>"
      ],
      "text/plain": [
       "   Unnamed: 0  Year comp_type company  Cost Of Goods Sold  Gross Profit  \\\n",
       "0           0  2019      tech    AAPL        161782000000   98392000000   \n",
       "1           1  2020      tech    AAPL        169559000000  104956000000   \n",
       "2           2  2021      tech    AAPL        212981000000  152836000000   \n",
       "3           3  2022      tech    AAPL        223546000000  170782000000   \n",
       "4           4  2019      tech    MSFT         42910000000   82933000000   \n",
       "\n",
       "   Operating Income  Total Operating Expenses  Total Revenue  \n",
       "0       63930000000              196244000000   260174000000  \n",
       "1       66288000000              208227000000   274515000000  \n",
       "2      108949000000              256868000000   365817000000  \n",
       "3      119437000000              274891000000   394328000000  \n",
       "4       42959000000               82884000000   125843000000  "
      ]
     },
     "execution_count": 4,
     "metadata": {},
     "output_type": "execute_result"
    }
   ],
   "source": [
    "income_statement_df.head()"
   ]
  },
  {
   "cell_type": "code",
   "execution_count": 25,
   "id": "075a3206-c6d4-4c72-bf66-f3dd1368ef0a",
   "metadata": {
    "executionCancelledAt": null,
    "executionTime": 62,
    "lastExecutedAt": 1725422268179,
    "lastExecutedByKernel": "93bf6f9c-9f74-4d1f-93c5-b58edcbac3c1",
    "lastScheduledRunId": null,
    "lastSuccessfullyExecutedCode": "# Merging the two dataset\n\ndf_ratios = pd.merge(balance_sheet_df, income_statement_df, on=['Year', 'company', 'comp_type'])\ndf_ratios.head()",
    "outputsMetadata": {
     "0": {
      "height": 248,
      "type": "dataFrame"
     }
    }
   },
   "outputs": [
    {
     "data": {
      "application/com.datacamp.data-table.v2+json": {
       "table": {
        "data": {
         "Accounts Payable": [
          46236000000,
          42296000000,
          54763000000,
          64115000000,
          9382000000
         ],
         "Cash": [
          48844000000,
          38016000000,
          34940000000,
          23646000000,
          11356000000
         ],
         "Cost Of Goods Sold": [
          161782000000,
          169559000000,
          212981000000,
          223546000000,
          42910000000
         ],
         "Gross Profit": [
          98392000000,
          104956000000,
          152836000000,
          170782000000,
          82933000000
         ],
         "Inventory": [
          4106000000,
          4061000000,
          6580000000,
          4946000000,
          2063000000
         ],
         "Operating Income": [
          63930000000,
          66288000000,
          108949000000,
          119437000000,
          42959000000
         ],
         "Property Plant Equipment": [
          37378000000,
          45336000000,
          49527000000,
          84234000000,
          43856000000
         ],
         "Short Term Investments": [
          51713000000,
          52927000000,
          27699000000,
          24658000000,
          122476000000
         ],
         "Total Assets": [
          338516000000,
          323888000000,
          351002000000,
          352755000000,
          286556000000
         ],
         "Total Current Assets": [
          162819000000,
          143713000000,
          134836000000,
          135405000000,
          175552000000
         ],
         "Total Current Liabilities": [
          105718000000,
          105392000000,
          125481000000,
          153982000000,
          69420000000
         ],
         "Total Liab": [
          248028000000,
          258549000000,
          287912000000,
          302083000000,
          184226000000
         ],
         "Total Operating Expenses": [
          196244000000,
          208227000000,
          256868000000,
          274891000000,
          82884000000
         ],
         "Total Revenue": [
          260174000000,
          274515000000,
          365817000000,
          394328000000,
          125843000000
         ],
         "Total Stockholder Equity": [
          90488000000,
          65339000000,
          63090000000,
          50672000000,
          102330000000
         ],
         "Unnamed: 0_x": [
          0,
          1,
          2,
          3,
          4
         ],
         "Unnamed: 0_y": [
          0,
          1,
          2,
          3,
          4
         ],
         "Year": [
          2019,
          2020,
          2021,
          2022,
          2019
         ],
         "comp_type": [
          "tech",
          "tech",
          "tech",
          "tech",
          "tech"
         ],
         "company": [
          "AAPL",
          "AAPL",
          "AAPL",
          "AAPL",
          "MSFT"
         ],
         "index": [
          0,
          1,
          2,
          3,
          4
         ]
        },
        "schema": {
         "fields": [
          {
           "name": "index",
           "type": "integer"
          },
          {
           "name": "Unnamed: 0_x",
           "type": "integer"
          },
          {
           "name": "Year",
           "type": "integer"
          },
          {
           "name": "comp_type",
           "type": "string"
          },
          {
           "name": "company",
           "type": "string"
          },
          {
           "name": "Accounts Payable",
           "type": "integer"
          },
          {
           "name": "Cash",
           "type": "integer"
          },
          {
           "name": "Inventory",
           "type": "number"
          },
          {
           "name": "Property Plant Equipment",
           "type": "integer"
          },
          {
           "name": "Short Term Investments",
           "type": "number"
          },
          {
           "name": "Total Assets",
           "type": "integer"
          },
          {
           "name": "Total Current Assets",
           "type": "integer"
          },
          {
           "name": "Total Current Liabilities",
           "type": "integer"
          },
          {
           "name": "Total Liab",
           "type": "integer"
          },
          {
           "name": "Total Stockholder Equity",
           "type": "integer"
          },
          {
           "name": "Unnamed: 0_y",
           "type": "integer"
          },
          {
           "name": "Cost Of Goods Sold",
           "type": "integer"
          },
          {
           "name": "Gross Profit",
           "type": "integer"
          },
          {
           "name": "Operating Income",
           "type": "integer"
          },
          {
           "name": "Total Operating Expenses",
           "type": "integer"
          },
          {
           "name": "Total Revenue",
           "type": "integer"
          }
         ],
         "pandas_version": "1.4.0",
         "primaryKey": [
          "index"
         ]
        }
       },
       "total_rows": 5,
       "truncation_type": null
      },
      "text/html": [
       "<div>\n",
       "<style scoped>\n",
       "    .dataframe tbody tr th:only-of-type {\n",
       "        vertical-align: middle;\n",
       "    }\n",
       "\n",
       "    .dataframe tbody tr th {\n",
       "        vertical-align: top;\n",
       "    }\n",
       "\n",
       "    .dataframe thead th {\n",
       "        text-align: right;\n",
       "    }\n",
       "</style>\n",
       "<table border=\"1\" class=\"dataframe\">\n",
       "  <thead>\n",
       "    <tr style=\"text-align: right;\">\n",
       "      <th></th>\n",
       "      <th>Unnamed: 0_x</th>\n",
       "      <th>Year</th>\n",
       "      <th>comp_type</th>\n",
       "      <th>company</th>\n",
       "      <th>Accounts Payable</th>\n",
       "      <th>Cash</th>\n",
       "      <th>Inventory</th>\n",
       "      <th>Property Plant Equipment</th>\n",
       "      <th>Short Term Investments</th>\n",
       "      <th>Total Assets</th>\n",
       "      <th>Total Current Assets</th>\n",
       "      <th>Total Current Liabilities</th>\n",
       "      <th>Total Liab</th>\n",
       "      <th>Total Stockholder Equity</th>\n",
       "      <th>Unnamed: 0_y</th>\n",
       "      <th>Cost Of Goods Sold</th>\n",
       "      <th>Gross Profit</th>\n",
       "      <th>Operating Income</th>\n",
       "      <th>Total Operating Expenses</th>\n",
       "      <th>Total Revenue</th>\n",
       "    </tr>\n",
       "  </thead>\n",
       "  <tbody>\n",
       "    <tr>\n",
       "      <th>0</th>\n",
       "      <td>0</td>\n",
       "      <td>2019</td>\n",
       "      <td>tech</td>\n",
       "      <td>AAPL</td>\n",
       "      <td>46236000000</td>\n",
       "      <td>48844000000</td>\n",
       "      <td>4.106000e+09</td>\n",
       "      <td>37378000000</td>\n",
       "      <td>5.171300e+10</td>\n",
       "      <td>338516000000</td>\n",
       "      <td>162819000000</td>\n",
       "      <td>105718000000</td>\n",
       "      <td>248028000000</td>\n",
       "      <td>90488000000</td>\n",
       "      <td>0</td>\n",
       "      <td>161782000000</td>\n",
       "      <td>98392000000</td>\n",
       "      <td>63930000000</td>\n",
       "      <td>196244000000</td>\n",
       "      <td>260174000000</td>\n",
       "    </tr>\n",
       "    <tr>\n",
       "      <th>1</th>\n",
       "      <td>1</td>\n",
       "      <td>2020</td>\n",
       "      <td>tech</td>\n",
       "      <td>AAPL</td>\n",
       "      <td>42296000000</td>\n",
       "      <td>38016000000</td>\n",
       "      <td>4.061000e+09</td>\n",
       "      <td>45336000000</td>\n",
       "      <td>5.292700e+10</td>\n",
       "      <td>323888000000</td>\n",
       "      <td>143713000000</td>\n",
       "      <td>105392000000</td>\n",
       "      <td>258549000000</td>\n",
       "      <td>65339000000</td>\n",
       "      <td>1</td>\n",
       "      <td>169559000000</td>\n",
       "      <td>104956000000</td>\n",
       "      <td>66288000000</td>\n",
       "      <td>208227000000</td>\n",
       "      <td>274515000000</td>\n",
       "    </tr>\n",
       "    <tr>\n",
       "      <th>2</th>\n",
       "      <td>2</td>\n",
       "      <td>2021</td>\n",
       "      <td>tech</td>\n",
       "      <td>AAPL</td>\n",
       "      <td>54763000000</td>\n",
       "      <td>34940000000</td>\n",
       "      <td>6.580000e+09</td>\n",
       "      <td>49527000000</td>\n",
       "      <td>2.769900e+10</td>\n",
       "      <td>351002000000</td>\n",
       "      <td>134836000000</td>\n",
       "      <td>125481000000</td>\n",
       "      <td>287912000000</td>\n",
       "      <td>63090000000</td>\n",
       "      <td>2</td>\n",
       "      <td>212981000000</td>\n",
       "      <td>152836000000</td>\n",
       "      <td>108949000000</td>\n",
       "      <td>256868000000</td>\n",
       "      <td>365817000000</td>\n",
       "    </tr>\n",
       "    <tr>\n",
       "      <th>3</th>\n",
       "      <td>3</td>\n",
       "      <td>2022</td>\n",
       "      <td>tech</td>\n",
       "      <td>AAPL</td>\n",
       "      <td>64115000000</td>\n",
       "      <td>23646000000</td>\n",
       "      <td>4.946000e+09</td>\n",
       "      <td>84234000000</td>\n",
       "      <td>2.465800e+10</td>\n",
       "      <td>352755000000</td>\n",
       "      <td>135405000000</td>\n",
       "      <td>153982000000</td>\n",
       "      <td>302083000000</td>\n",
       "      <td>50672000000</td>\n",
       "      <td>3</td>\n",
       "      <td>223546000000</td>\n",
       "      <td>170782000000</td>\n",
       "      <td>119437000000</td>\n",
       "      <td>274891000000</td>\n",
       "      <td>394328000000</td>\n",
       "    </tr>\n",
       "    <tr>\n",
       "      <th>4</th>\n",
       "      <td>4</td>\n",
       "      <td>2019</td>\n",
       "      <td>tech</td>\n",
       "      <td>MSFT</td>\n",
       "      <td>9382000000</td>\n",
       "      <td>11356000000</td>\n",
       "      <td>2.063000e+09</td>\n",
       "      <td>43856000000</td>\n",
       "      <td>1.224760e+11</td>\n",
       "      <td>286556000000</td>\n",
       "      <td>175552000000</td>\n",
       "      <td>69420000000</td>\n",
       "      <td>184226000000</td>\n",
       "      <td>102330000000</td>\n",
       "      <td>4</td>\n",
       "      <td>42910000000</td>\n",
       "      <td>82933000000</td>\n",
       "      <td>42959000000</td>\n",
       "      <td>82884000000</td>\n",
       "      <td>125843000000</td>\n",
       "    </tr>\n",
       "  </tbody>\n",
       "</table>\n",
       "</div>"
      ],
      "text/plain": [
       "   Unnamed: 0_x  Year  ... Total Operating Expenses Total Revenue\n",
       "0             0  2019  ...             196244000000  260174000000\n",
       "1             1  2020  ...             208227000000  274515000000\n",
       "2             2  2021  ...             256868000000  365817000000\n",
       "3             3  2022  ...             274891000000  394328000000\n",
       "4             4  2019  ...              82884000000  125843000000\n",
       "\n",
       "[5 rows x 20 columns]"
      ]
     },
     "execution_count": 25,
     "metadata": {},
     "output_type": "execute_result"
    }
   ],
   "source": [
    "# Merging the two dataset\n",
    "\n",
    "df_ratios = pd.merge(balance_sheet_df, income_statement_df, on=['Year', 'company', 'comp_type'])\n",
    "df_ratios.head()"
   ]
  },
  {
   "cell_type": "code",
   "execution_count": 26,
   "id": "fe1077ef-7100-4cd8-b40d-52b7217d5f91",
   "metadata": {
    "executionCancelledAt": null,
    "executionTime": 50,
    "lastExecutedAt": 1725422268229,
    "lastExecutedByKernel": "93bf6f9c-9f74-4d1f-93c5-b58edcbac3c1",
    "lastScheduledRunId": null,
    "lastSuccessfullyExecutedCode": "# Computing the ratios\ndf_ratios['leverage_ratio'] = df_ratios[\"Total Assets\"]/df_ratios[\"Total Stockholder Equity\"]\ndf_ratios['profitability_ratio'] = df_ratios['Operating Income'] / df_ratios['Total Revenue']\n\ndf_ratios.head()",
    "outputsMetadata": {
     "0": {
      "height": 248,
      "type": "dataFrame"
     }
    }
   },
   "outputs": [
    {
     "data": {
      "application/com.datacamp.data-table.v2+json": {
       "table": {
        "data": {
         "Accounts Payable": [
          46236000000,
          42296000000,
          54763000000,
          64115000000,
          9382000000
         ],
         "Cash": [
          48844000000,
          38016000000,
          34940000000,
          23646000000,
          11356000000
         ],
         "Cost Of Goods Sold": [
          161782000000,
          169559000000,
          212981000000,
          223546000000,
          42910000000
         ],
         "Gross Profit": [
          98392000000,
          104956000000,
          152836000000,
          170782000000,
          82933000000
         ],
         "Inventory": [
          4106000000,
          4061000000,
          6580000000,
          4946000000,
          2063000000
         ],
         "Operating Income": [
          63930000000,
          66288000000,
          108949000000,
          119437000000,
          42959000000
         ],
         "Property Plant Equipment": [
          37378000000,
          45336000000,
          49527000000,
          84234000000,
          43856000000
         ],
         "Short Term Investments": [
          51713000000,
          52927000000,
          27699000000,
          24658000000,
          122476000000
         ],
         "Total Assets": [
          338516000000,
          323888000000,
          351002000000,
          352755000000,
          286556000000
         ],
         "Total Current Assets": [
          162819000000,
          143713000000,
          134836000000,
          135405000000,
          175552000000
         ],
         "Total Current Liabilities": [
          105718000000,
          105392000000,
          125481000000,
          153982000000,
          69420000000
         ],
         "Total Liab": [
          248028000000,
          258549000000,
          287912000000,
          302083000000,
          184226000000
         ],
         "Total Operating Expenses": [
          196244000000,
          208227000000,
          256868000000,
          274891000000,
          82884000000
         ],
         "Total Revenue": [
          260174000000,
          274515000000,
          365817000000,
          394328000000,
          125843000000
         ],
         "Total Stockholder Equity": [
          90488000000,
          65339000000,
          63090000000,
          50672000000,
          102330000000
         ],
         "Unnamed: 0_x": [
          0,
          1,
          2,
          3,
          4
         ],
         "Unnamed: 0_y": [
          0,
          1,
          2,
          3,
          4
         ],
         "Year": [
          2019,
          2020,
          2021,
          2022,
          2019
         ],
         "comp_type": [
          "tech",
          "tech",
          "tech",
          "tech",
          "tech"
         ],
         "company": [
          "AAPL",
          "AAPL",
          "AAPL",
          "AAPL",
          "MSFT"
         ],
         "index": [
          0,
          1,
          2,
          3,
          4
         ],
         "leverage_ratio": [
          3.7410043321,
          4.9570394405,
          5.5635124425,
          6.9615369435,
          2.8003127138
         ],
         "profitability_ratio": [
          0.2457201719,
          0.2414731435,
          0.2978237753,
          0.302887444,
          0.3413698021
         ]
        },
        "schema": {
         "fields": [
          {
           "name": "index",
           "type": "integer"
          },
          {
           "name": "Unnamed: 0_x",
           "type": "integer"
          },
          {
           "name": "Year",
           "type": "integer"
          },
          {
           "name": "comp_type",
           "type": "string"
          },
          {
           "name": "company",
           "type": "string"
          },
          {
           "name": "Accounts Payable",
           "type": "integer"
          },
          {
           "name": "Cash",
           "type": "integer"
          },
          {
           "name": "Inventory",
           "type": "number"
          },
          {
           "name": "Property Plant Equipment",
           "type": "integer"
          },
          {
           "name": "Short Term Investments",
           "type": "number"
          },
          {
           "name": "Total Assets",
           "type": "integer"
          },
          {
           "name": "Total Current Assets",
           "type": "integer"
          },
          {
           "name": "Total Current Liabilities",
           "type": "integer"
          },
          {
           "name": "Total Liab",
           "type": "integer"
          },
          {
           "name": "Total Stockholder Equity",
           "type": "integer"
          },
          {
           "name": "Unnamed: 0_y",
           "type": "integer"
          },
          {
           "name": "Cost Of Goods Sold",
           "type": "integer"
          },
          {
           "name": "Gross Profit",
           "type": "integer"
          },
          {
           "name": "Operating Income",
           "type": "integer"
          },
          {
           "name": "Total Operating Expenses",
           "type": "integer"
          },
          {
           "name": "Total Revenue",
           "type": "integer"
          },
          {
           "name": "leverage_ratio",
           "type": "number"
          },
          {
           "name": "profitability_ratio",
           "type": "number"
          }
         ],
         "pandas_version": "1.4.0",
         "primaryKey": [
          "index"
         ]
        }
       },
       "total_rows": 5,
       "truncation_type": null
      },
      "text/html": [
       "<div>\n",
       "<style scoped>\n",
       "    .dataframe tbody tr th:only-of-type {\n",
       "        vertical-align: middle;\n",
       "    }\n",
       "\n",
       "    .dataframe tbody tr th {\n",
       "        vertical-align: top;\n",
       "    }\n",
       "\n",
       "    .dataframe thead th {\n",
       "        text-align: right;\n",
       "    }\n",
       "</style>\n",
       "<table border=\"1\" class=\"dataframe\">\n",
       "  <thead>\n",
       "    <tr style=\"text-align: right;\">\n",
       "      <th></th>\n",
       "      <th>Unnamed: 0_x</th>\n",
       "      <th>Year</th>\n",
       "      <th>comp_type</th>\n",
       "      <th>company</th>\n",
       "      <th>Accounts Payable</th>\n",
       "      <th>Cash</th>\n",
       "      <th>Inventory</th>\n",
       "      <th>Property Plant Equipment</th>\n",
       "      <th>Short Term Investments</th>\n",
       "      <th>Total Assets</th>\n",
       "      <th>Total Current Assets</th>\n",
       "      <th>Total Current Liabilities</th>\n",
       "      <th>Total Liab</th>\n",
       "      <th>Total Stockholder Equity</th>\n",
       "      <th>Unnamed: 0_y</th>\n",
       "      <th>Cost Of Goods Sold</th>\n",
       "      <th>Gross Profit</th>\n",
       "      <th>Operating Income</th>\n",
       "      <th>Total Operating Expenses</th>\n",
       "      <th>Total Revenue</th>\n",
       "      <th>leverage_ratio</th>\n",
       "      <th>profitability_ratio</th>\n",
       "    </tr>\n",
       "  </thead>\n",
       "  <tbody>\n",
       "    <tr>\n",
       "      <th>0</th>\n",
       "      <td>0</td>\n",
       "      <td>2019</td>\n",
       "      <td>tech</td>\n",
       "      <td>AAPL</td>\n",
       "      <td>46236000000</td>\n",
       "      <td>48844000000</td>\n",
       "      <td>4.106000e+09</td>\n",
       "      <td>37378000000</td>\n",
       "      <td>5.171300e+10</td>\n",
       "      <td>338516000000</td>\n",
       "      <td>162819000000</td>\n",
       "      <td>105718000000</td>\n",
       "      <td>248028000000</td>\n",
       "      <td>90488000000</td>\n",
       "      <td>0</td>\n",
       "      <td>161782000000</td>\n",
       "      <td>98392000000</td>\n",
       "      <td>63930000000</td>\n",
       "      <td>196244000000</td>\n",
       "      <td>260174000000</td>\n",
       "      <td>3.741004</td>\n",
       "      <td>0.245720</td>\n",
       "    </tr>\n",
       "    <tr>\n",
       "      <th>1</th>\n",
       "      <td>1</td>\n",
       "      <td>2020</td>\n",
       "      <td>tech</td>\n",
       "      <td>AAPL</td>\n",
       "      <td>42296000000</td>\n",
       "      <td>38016000000</td>\n",
       "      <td>4.061000e+09</td>\n",
       "      <td>45336000000</td>\n",
       "      <td>5.292700e+10</td>\n",
       "      <td>323888000000</td>\n",
       "      <td>143713000000</td>\n",
       "      <td>105392000000</td>\n",
       "      <td>258549000000</td>\n",
       "      <td>65339000000</td>\n",
       "      <td>1</td>\n",
       "      <td>169559000000</td>\n",
       "      <td>104956000000</td>\n",
       "      <td>66288000000</td>\n",
       "      <td>208227000000</td>\n",
       "      <td>274515000000</td>\n",
       "      <td>4.957039</td>\n",
       "      <td>0.241473</td>\n",
       "    </tr>\n",
       "    <tr>\n",
       "      <th>2</th>\n",
       "      <td>2</td>\n",
       "      <td>2021</td>\n",
       "      <td>tech</td>\n",
       "      <td>AAPL</td>\n",
       "      <td>54763000000</td>\n",
       "      <td>34940000000</td>\n",
       "      <td>6.580000e+09</td>\n",
       "      <td>49527000000</td>\n",
       "      <td>2.769900e+10</td>\n",
       "      <td>351002000000</td>\n",
       "      <td>134836000000</td>\n",
       "      <td>125481000000</td>\n",
       "      <td>287912000000</td>\n",
       "      <td>63090000000</td>\n",
       "      <td>2</td>\n",
       "      <td>212981000000</td>\n",
       "      <td>152836000000</td>\n",
       "      <td>108949000000</td>\n",
       "      <td>256868000000</td>\n",
       "      <td>365817000000</td>\n",
       "      <td>5.563512</td>\n",
       "      <td>0.297824</td>\n",
       "    </tr>\n",
       "    <tr>\n",
       "      <th>3</th>\n",
       "      <td>3</td>\n",
       "      <td>2022</td>\n",
       "      <td>tech</td>\n",
       "      <td>AAPL</td>\n",
       "      <td>64115000000</td>\n",
       "      <td>23646000000</td>\n",
       "      <td>4.946000e+09</td>\n",
       "      <td>84234000000</td>\n",
       "      <td>2.465800e+10</td>\n",
       "      <td>352755000000</td>\n",
       "      <td>135405000000</td>\n",
       "      <td>153982000000</td>\n",
       "      <td>302083000000</td>\n",
       "      <td>50672000000</td>\n",
       "      <td>3</td>\n",
       "      <td>223546000000</td>\n",
       "      <td>170782000000</td>\n",
       "      <td>119437000000</td>\n",
       "      <td>274891000000</td>\n",
       "      <td>394328000000</td>\n",
       "      <td>6.961537</td>\n",
       "      <td>0.302887</td>\n",
       "    </tr>\n",
       "    <tr>\n",
       "      <th>4</th>\n",
       "      <td>4</td>\n",
       "      <td>2019</td>\n",
       "      <td>tech</td>\n",
       "      <td>MSFT</td>\n",
       "      <td>9382000000</td>\n",
       "      <td>11356000000</td>\n",
       "      <td>2.063000e+09</td>\n",
       "      <td>43856000000</td>\n",
       "      <td>1.224760e+11</td>\n",
       "      <td>286556000000</td>\n",
       "      <td>175552000000</td>\n",
       "      <td>69420000000</td>\n",
       "      <td>184226000000</td>\n",
       "      <td>102330000000</td>\n",
       "      <td>4</td>\n",
       "      <td>42910000000</td>\n",
       "      <td>82933000000</td>\n",
       "      <td>42959000000</td>\n",
       "      <td>82884000000</td>\n",
       "      <td>125843000000</td>\n",
       "      <td>2.800313</td>\n",
       "      <td>0.341370</td>\n",
       "    </tr>\n",
       "  </tbody>\n",
       "</table>\n",
       "</div>"
      ],
      "text/plain": [
       "   Unnamed: 0_x  Year  ... leverage_ratio profitability_ratio\n",
       "0             0  2019  ...       3.741004            0.245720\n",
       "1             1  2020  ...       4.957039            0.241473\n",
       "2             2  2021  ...       5.563512            0.297824\n",
       "3             3  2022  ...       6.961537            0.302887\n",
       "4             4  2019  ...       2.800313            0.341370\n",
       "\n",
       "[5 rows x 22 columns]"
      ]
     },
     "execution_count": 26,
     "metadata": {},
     "output_type": "execute_result"
    }
   ],
   "source": [
    "# Computing the ratios\n",
    "df_ratios['leverage_ratio'] = df_ratios[\"Total Assets\"]/df_ratios[\"Total Stockholder Equity\"]\n",
    "df_ratios['profitability_ratio'] = df_ratios['Operating Income'] / df_ratios['Total Revenue']\n",
    "\n",
    "df_ratios.head()"
   ]
  },
  {
   "cell_type": "code",
   "execution_count": 27,
   "id": "81b63cb4-8337-47e2-a3dc-512f58a4663f",
   "metadata": {
    "executionCancelledAt": null,
    "executionTime": 278,
    "lastExecutedAt": 1725422268507,
    "lastExecutedByKernel": "93bf6f9c-9f74-4d1f-93c5-b58edcbac3c1",
    "lastScheduledRunId": null,
    "lastSuccessfullyExecutedCode": "# Finding the company type with the lowest profitability ratio\nimport seaborn as sns\n\nsns.barplot(x='comp_type', y='profitability_ratio', data=df_ratios)"
   },
   "outputs": [
    {
     "data": {
      "text/plain": [
       "<AxesSubplot: xlabel='comp_type', ylabel='profitability_ratio'>"
      ]
     },
     "execution_count": 27,
     "metadata": {},
     "output_type": "execute_result"
    },
    {
     "data": {
      "image/png": "[encoded data removed]",
      "text/plain": [
       "<Figure size 640x480 with 1 Axes>"
      ]
     },
     "metadata": {
      "image/png": {
       "height": 433,
       "width": 574
      }
     },
     "output_type": "display_data"
    }
   ],
   "source": [
    "# Finding the company type with the lowest profitability ratio\n",
    "import seaborn as sns\n",
    "\n",
    "sns.barplot(x='comp_type', y='profitability_ratio', data=df_ratios)"
   ]
  },
  {
   "cell_type": "code",
   "execution_count": 28,
   "id": "76e3ebf6-7212-4e81-a67f-eac165db3a9a",
   "metadata": {
    "executionCancelledAt": null,
    "executionTime": 46,
    "lastExecutedAt": 1725422268553,
    "lastExecutedByKernel": "93bf6f9c-9f74-4d1f-93c5-b58edcbac3c1",
    "lastScheduledRunId": null,
    "lastSuccessfullyExecutedCode": "lowest_profitability = 'fmcg'"
   },
   "outputs": [],
   "source": [
    "lowest_profitability = 'fmcg'"
   ]
  },
  {
   "cell_type": "code",
   "execution_count": 29,
   "id": "c87cf916-ff22-4b4b-9b04-8c1c252ced23",
   "metadata": {
    "executionCancelledAt": null,
    "executionTime": 274,
    "lastExecutedAt": 1725422268827,
    "lastExecutedByKernel": "93bf6f9c-9f74-4d1f-93c5-b58edcbac3c1",
    "lastScheduledRunId": null,
    "lastSuccessfullyExecutedCode": "sns.barplot(x='comp_type', y='leverage_ratio', data=df_ratios)"
   },
   "outputs": [
    {
     "data": {
      "text/plain": [
       "<AxesSubplot: xlabel='comp_type', ylabel='leverage_ratio'>"
      ]
     },
     "execution_count": 29,
     "metadata": {},
     "output_type": "execute_result"
    },
    {
     "data": {
      "image/png": "[encoded data removed]",
      "text/plain": [
       "<Figure size 640x480 with 1 Axes>"
      ]
     },
     "metadata": {
      "image/png": {
       "height": 433,
       "width": 554
      }
     },
     "output_type": "display_data"
    }
   ],
   "source": [
    "sns.barplot(x='comp_type', y='leverage_ratio', data=df_ratios)"
   ]
  },
  {
   "cell_type": "code",
   "execution_count": 30,
   "id": "912fa420-e2b8-4d71-848b-7d4289ea1a60",
   "metadata": {
    "executionCancelledAt": null,
    "executionTime": 46,
    "lastExecutedAt": 1725422268873,
    "lastExecutedByKernel": "93bf6f9c-9f74-4d1f-93c5-b58edcbac3c1",
    "lastScheduledRunId": null,
    "lastSuccessfullyExecutedCode": "highest_leverage = 'real_est'"
   },
   "outputs": [],
   "source": [
    "highest_leverage = 'real_est'"
   ]
  },
  {
   "cell_type": "code",
   "execution_count": 31,
   "id": "cce5be98-e6b5-483e-af41-858d01d66c87",
   "metadata": {
    "executionCancelledAt": null,
    "executionTime": 334,
    "lastExecutedAt": 1725422269207,
    "lastExecutedByKernel": "93bf6f9c-9f74-4d1f-93c5-b58edcbac3c1",
    "lastScheduledRunId": null,
    "lastSuccessfullyExecutedCode": "# Relationship between leverage and profitability in the real estate companies\nreal_est_df = df_ratios[df_ratios['comp_type'] == 'real_est']\n\nsns.regplot(data=real_est_df, x='leverage_ratio', y='profitability_ratio')",
    "outputsMetadata": {
     "0": {
      "height": 248,
      "type": "dataFrame"
     }
    }
   },
   "outputs": [
    {
     "data": {
      "text/plain": [
       "<AxesSubplot: xlabel='leverage_ratio', ylabel='profitability_ratio'>"
      ]
     },
     "execution_count": 31,
     "metadata": {},
     "output_type": "execute_result"
    },
    {
     "data": {
      "image/png": "[encoded data removed]",
      "text/plain": [
       "<Figure size 640x480 with 1 Axes>"
      ]
     },
     "metadata": {
      "image/png": {
       "height": 433,
       "width": 565
      }
     },
     "output_type": "display_data"
    }
   ],
   "source": [
    "# Relationship between leverage and profitability in the real estate companies\n",
    "real_est_df = df_ratios[df_ratios['comp_type'] == 'real_est']\n",
    "\n",
    "sns.regplot(data=real_est_df, x='leverage_ratio', y='profitability_ratio')"
   ]
  },
  {
   "cell_type": "code",
   "execution_count": 32,
   "id": "7ff59bdc-f202-4f8c-9c8c-37507a2f1e8b",
   "metadata": {
    "executionCancelledAt": null,
    "executionTime": 46,
    "lastExecutedAt": 1725422269253,
    "lastExecutedByKernel": "93bf6f9c-9f74-4d1f-93c5-b58edcbac3c1",
    "lastScheduledRunId": null,
    "lastSuccessfullyExecutedCode": "relationship = 'positive'"
   },
   "outputs": [],
   "source": [
    "relationship = 'positive'"
   ]
  }
 ],
 "metadata": {
  "colab": {
   "name": "Welcome to DataCamp Workspaces.ipynb",
   "provenance": []
  },
  "kernelspec": {
   "display_name": "Python 3 (ipykernel)",
   "language": "python",
   "name": "python3"
  },
  "language_info": {
   "codemirror_mode": {
    "name": "ipython",
    "version": 3
   },
   "file_extension": ".py",
   "mimetype": "text/x-python",
   "name": "python",
   "nbconvert_exporter": "python",
   "pygments_lexer": "ipython3",
   "version": "3.11.3"
  }
 },
 "nbformat": 4,
 "nbformat_minor": 5
}
